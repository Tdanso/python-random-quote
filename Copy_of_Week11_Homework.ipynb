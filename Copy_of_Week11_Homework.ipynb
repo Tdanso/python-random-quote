{
  "nbformat": 4,
  "nbformat_minor": 0,
  "metadata": {
    "colab": {
      "name": "Copy of Week11_Homework",
      "provenance": [],
      "include_colab_link": true
    },
    "kernelspec": {
      "name": "python3",
      "display_name": "Python 3"
    },
    "language_info": {
      "name": "python"
    }
  },
  "cells": [
    {
      "cell_type": "markdown",
      "metadata": {
        "id": "view-in-github",
        "colab_type": "text"
      },
      "source": [
        "<a href=\"https://colab.research.google.com/github/Tdanso/python-random-quote/blob/master/Copy_of_Week11_Homework.ipynb\" target=\"_parent\"><img src=\"https://colab.research.google.com/assets/colab-badge.svg\" alt=\"Open In Colab\"/></a>"
      ]
    },
    {
      "cell_type": "markdown",
      "metadata": {
        "id": "C9hqHPqhuh5K"
      },
      "source": [
        "# Week 11 Homework\n",
        "In this assignment, we will analyze the Titanic dataset with the Decision Tree model and the Random Forest model.\n",
        "\n",
        "On April 15, 1912, during her maiden voyage, the widely considered unsinkable” RMS Titanic sank after colliding with an iceberg. Unfortunately, there weren’t enough lifeboats for everyone onboard, resulting in the death of 1502 out of 2224 passengers and crew. While there was some element of luck involved in surviving, it seems some groups of people were more likely to survive than others.\n",
        "\n",
        "1. Load the data using the code given below. "
      ]
    },
    {
      "cell_type": "code",
      "metadata": {
        "id": "Qz_yzdcduh7x"
      },
      "source": [
        "import numpy as np\n",
        "import pandas as pd\n",
        "from sklearn.model_selection import train_test_split\n",
        "from sklearn.tree import DecisionTreeClassifier\n",
        "from sklearn.tree import plot_tree\n",
        "from sklearn.ensemble import RandomForestClassifier\n",
        "import matplotlib.pyplot as plt\n",
        "%matplotlib inline"
      ],
      "execution_count": null,
      "outputs": []
    },
    {
      "cell_type": "code",
      "metadata": {
        "colab": {
          "base_uri": "https://localhost:8080/",
          "height": 202
        },
        "id": "1TGcaV4Cuh-X",
        "outputId": "5e0a36ec-37be-44e3-b837-5019fe719aae"
      },
      "source": [
        "titanic_url = \"https://gist.githubusercontent.com/michhar/2dfd2de0d4f8727f873422c5d959fff5/raw/fa71405126017e6a37bea592440b4bee94bf7b9e/titanic.csv\"\n",
        "titanic = pd.read_csv(titanic_url).drop(['PassengerId', 'Name', 'Ticket', 'Cabin', 'Embarked'], axis=1).dropna()\n",
        "titanic['Sex'] = titanic['Sex'].apply(lambda x: int(x == 'male'))\n",
        "titanic.head()"
      ],
      "execution_count": null,
      "outputs": [
        {
          "output_type": "execute_result",
          "data": {
            "text/html": [
              "<div>\n",
              "<style scoped>\n",
              "    .dataframe tbody tr th:only-of-type {\n",
              "        vertical-align: middle;\n",
              "    }\n",
              "\n",
              "    .dataframe tbody tr th {\n",
              "        vertical-align: top;\n",
              "    }\n",
              "\n",
              "    .dataframe thead th {\n",
              "        text-align: right;\n",
              "    }\n",
              "</style>\n",
              "<table border=\"1\" class=\"dataframe\">\n",
              "  <thead>\n",
              "    <tr style=\"text-align: right;\">\n",
              "      <th></th>\n",
              "      <th>Survived</th>\n",
              "      <th>Pclass</th>\n",
              "      <th>Sex</th>\n",
              "      <th>Age</th>\n",
              "      <th>SibSp</th>\n",
              "      <th>Parch</th>\n",
              "      <th>Fare</th>\n",
              "    </tr>\n",
              "  </thead>\n",
              "  <tbody>\n",
              "    <tr>\n",
              "      <th>0</th>\n",
              "      <td>0</td>\n",
              "      <td>3</td>\n",
              "      <td>1</td>\n",
              "      <td>22.0</td>\n",
              "      <td>1</td>\n",
              "      <td>0</td>\n",
              "      <td>7.2500</td>\n",
              "    </tr>\n",
              "    <tr>\n",
              "      <th>1</th>\n",
              "      <td>1</td>\n",
              "      <td>1</td>\n",
              "      <td>0</td>\n",
              "      <td>38.0</td>\n",
              "      <td>1</td>\n",
              "      <td>0</td>\n",
              "      <td>71.2833</td>\n",
              "    </tr>\n",
              "    <tr>\n",
              "      <th>2</th>\n",
              "      <td>1</td>\n",
              "      <td>3</td>\n",
              "      <td>0</td>\n",
              "      <td>26.0</td>\n",
              "      <td>0</td>\n",
              "      <td>0</td>\n",
              "      <td>7.9250</td>\n",
              "    </tr>\n",
              "    <tr>\n",
              "      <th>3</th>\n",
              "      <td>1</td>\n",
              "      <td>1</td>\n",
              "      <td>0</td>\n",
              "      <td>35.0</td>\n",
              "      <td>1</td>\n",
              "      <td>0</td>\n",
              "      <td>53.1000</td>\n",
              "    </tr>\n",
              "    <tr>\n",
              "      <th>4</th>\n",
              "      <td>0</td>\n",
              "      <td>3</td>\n",
              "      <td>1</td>\n",
              "      <td>35.0</td>\n",
              "      <td>0</td>\n",
              "      <td>0</td>\n",
              "      <td>8.0500</td>\n",
              "    </tr>\n",
              "  </tbody>\n",
              "</table>\n",
              "</div>"
            ],
            "text/plain": [
              "   Survived  Pclass  Sex   Age  SibSp  Parch     Fare\n",
              "0         0       3    1  22.0      1      0   7.2500\n",
              "1         1       1    0  38.0      1      0  71.2833\n",
              "2         1       3    0  26.0      0      0   7.9250\n",
              "3         1       1    0  35.0      1      0  53.1000\n",
              "4         0       3    1  35.0      0      0   8.0500"
            ]
          },
          "metadata": {
            "tags": []
          },
          "execution_count": 31
        }
      ]
    },
    {
      "cell_type": "markdown",
      "metadata": {
        "id": "DAtmnSlQuiBV"
      },
      "source": [
        "The features are:\n",
        "- Survived: whether the passenger survived. This is the target feature.\n",
        "- Pclass: the ticket class\n",
        "- Sex: 0 means female, 1 means male.\n",
        "- Age\n",
        "- SibSp: number of siblings / spouses aboard the Titanic\n",
        "- Parch: number of parents / children aboard the Titanic\n",
        "- Fare\n",
        "\n",
        "2. Split the data into training set (80%) and test set (20%)\n",
        "3. Build a decision tree model on the training set for max_depth = 2, 3, 4. Use the test set to determine which model has the best performance.\n",
        "4. Use `plot_tree` function from `sklearn` to visualize the best decision tree model. Describe one group of passengers are likely to survive. If the generated graph is too small, you can add the statement `plt.figure(figsize=(12,12))` **before** the `plot_tree` statement to make the graph larger.\n",
        "5. Build a random forest model with the same `max_depth` value and `n_estimators=100`. Show the accuracy score on the test set."
      ]
    },
    {
      "cell_type": "code",
      "metadata": {
        "id": "MoR7MOi7uiEP"
      },
      "source": [
        "#2.Split the data into training set (80%) and test set (20%)\n",
        "X = titanic.drop(['Survived'],axis=1)\n",
        "Y = titanic['Survived']\n",
        "X_train,X_test,Y_train,Y_test=train_test_split(X,Y,test_size=0.2,random_state=0)"
      ],
      "execution_count": null,
      "outputs": []
    },
    {
      "cell_type": "code",
      "metadata": {
        "id": "Hxq3kEqsj_O7"
      },
      "source": [
        "X_train,X_test,Y_train,Y_test=train_test_split(X,Y,test_size=0.2,random_state=0)"
      ],
      "execution_count": null,
      "outputs": []
    },
    {
      "cell_type": "code",
      "metadata": {
        "id": "CPDCxYvbuiHJ",
        "colab": {
          "base_uri": "https://localhost:8080/"
        },
        "outputId": "c614d5bb-0553-4f00-82c7-9711679370b6"
      },
      "source": [
        "# 3 Build a decision tree model on the training set for max_depth = 2, 3, 4. Use the test set to determine which model has the best performance.\n",
        "#  max_depth = 2,\n",
        "classifier_2 = DecisionTreeClassifier(max_depth=2, random_state=0)\n",
        "classifier_2.fit(X_train, Y_train)\n",
        "predict=classifier_2.predict(X_test)\n",
        "classifier_2.score(X_test, Y_test)"
      ],
      "execution_count": null,
      "outputs": [
        {
          "output_type": "execute_result",
          "data": {
            "text/plain": [
              "0.7622377622377622"
            ]
          },
          "metadata": {
            "tags": []
          },
          "execution_count": 36
        }
      ]
    },
    {
      "cell_type": "code",
      "metadata": {
        "id": "OBVfY_QZuiKA",
        "colab": {
          "base_uri": "https://localhost:8080/"
        },
        "outputId": "ef75811f-e627-4abd-9eef-60c459691f80"
      },
      "source": [
        "#  max_depth = 3,\n",
        "classifier_3 = DecisionTreeClassifier(max_depth=3, random_state=0)\n",
        "classifier_3.fit(X_train, Y_train)\n",
        "predict=classifier_3.predict(X_test)\n",
        "classifier_3.score(X_test, Y_test)"
      ],
      "execution_count": null,
      "outputs": [
        {
          "output_type": "execute_result",
          "data": {
            "text/plain": [
              "0.8181818181818182"
            ]
          },
          "metadata": {
            "tags": []
          },
          "execution_count": 37
        }
      ]
    },
    {
      "cell_type": "code",
      "metadata": {
        "id": "lhbHiHUOuiM0",
        "colab": {
          "base_uri": "https://localhost:8080/"
        },
        "outputId": "21ad1268-8fa2-4c9b-9109-8124f24fb344"
      },
      "source": [
        "#  max_depth = 4,\n",
        "classifier_4 = DecisionTreeClassifier(max_depth=4, random_state=0)\n",
        "classifier_4.fit(X_train, Y_train)\n",
        "predict=classifier_4.predict(X_test)\n",
        "classifier_4.score(X_test, Y_test)"
      ],
      "execution_count": null,
      "outputs": [
        {
          "output_type": "execute_result",
          "data": {
            "text/plain": [
              "0.7902097902097902"
            ]
          },
          "metadata": {
            "tags": []
          },
          "execution_count": 38
        }
      ]
    },
    {
      "cell_type": "code",
      "metadata": {
        "id": "UAj_5H2IuiP1",
        "colab": {
          "base_uri": "https://localhost:8080/",
          "height": 950
        },
        "outputId": "0459739b-0ddc-4d4c-bf93-527c13d4c044"
      },
      "source": [
        "# 4 Use plot_tree function from sklearn to visualize the best decision tree model. Describe one group of passengers are likely to survive.\n",
        "# If the generated graph is too small, you can add the statement plt.figure(figsize=(12,12)) before the plot_tree statement to make the graph larger.\n",
        "\n",
        "plt.figure(figsize=(12,12))\n",
        "plot_tree(classifier_3)\n"
      ],
      "execution_count": null,
      "outputs": [
        {
          "output_type": "execute_result",
          "data": {
            "text/plain": [
              "[Text(334.8, 570.7800000000001, 'X[1] <= 0.5\\ngini = 0.478\\nsamples = 571\\nvalue = [345, 226]'),\n",
              " Text(167.4, 407.70000000000005, 'X[0] <= 2.5\\ngini = 0.385\\nsamples = 204\\nvalue = [53, 151]'),\n",
              " Text(83.7, 244.62, 'X[5] <= 26.125\\ngini = 0.08\\nsamples = 120\\nvalue = [5, 115]'),\n",
              " Text(41.85, 81.53999999999996, 'gini = 0.172\\nsamples = 42\\nvalue = [4, 38]'),\n",
              " Text(125.55000000000001, 81.53999999999996, 'gini = 0.025\\nsamples = 78\\nvalue = [1, 77]'),\n",
              " Text(251.10000000000002, 244.62, 'X[5] <= 20.8\\ngini = 0.49\\nsamples = 84\\nvalue = [48, 36]'),\n",
              " Text(209.25, 81.53999999999996, 'gini = 0.498\\nsamples = 62\\nvalue = [29, 33]'),\n",
              " Text(292.95, 81.53999999999996, 'gini = 0.236\\nsamples = 22\\nvalue = [19, 3]'),\n",
              " Text(502.20000000000005, 407.70000000000005, 'X[2] <= 13.0\\ngini = 0.325\\nsamples = 367\\nvalue = [292, 75]'),\n",
              " Text(418.5, 244.62, 'X[3] <= 2.5\\ngini = 0.48\\nsamples = 30\\nvalue = [12, 18]'),\n",
              " Text(376.65000000000003, 81.53999999999996, 'gini = 0.1\\nsamples = 19\\nvalue = [1, 18]'),\n",
              " Text(460.35, 81.53999999999996, 'gini = 0.0\\nsamples = 11\\nvalue = [11, 0]'),\n",
              " Text(585.9, 244.62, 'X[0] <= 1.5\\ngini = 0.281\\nsamples = 337\\nvalue = [280, 57]'),\n",
              " Text(544.0500000000001, 81.53999999999996, 'gini = 0.456\\nsamples = 74\\nvalue = [48, 26]'),\n",
              " Text(627.75, 81.53999999999996, 'gini = 0.208\\nsamples = 263\\nvalue = [232, 31]')]"
            ]
          },
          "metadata": {
            "tags": []
          },
          "execution_count": 39
        },
        {
          "output_type": "display_data",
          "data": {
            "image/png": "[encoded data removed]",
            "text/plain": [
              "<Figure size 864x864 with 1 Axes>"
            ]
          },
          "metadata": {
            "tags": [],
            "needs_background": "light"
          }
        }
      ]
    },
    {
      "cell_type": "code",
      "metadata": {
        "id": "QLoIPWLPo409",
        "colab": {
          "base_uri": "https://localhost:8080/"
        },
        "outputId": "fed4ede3-1798-4489-a984-354fc646f08c"
      },
      "source": [
        "# 5 Build a random forest model with the same max_depth value and n_estimators=100. Show the accuracy score on the test set.\n",
        " # max_depth = 2\n",
        "rf_2 = RandomForestClassifier(n_estimators=100,max_depth=2)\n",
        "rf_2.fit(X_train, Y_train)\n",
        "predict=rf_2.predict(X_test)\n",
        "rf_2.score(X_test, Y_test)"
      ],
      "execution_count": null,
      "outputs": [
        {
          "output_type": "execute_result",
          "data": {
            "text/plain": [
              "0.8181818181818182"
            ]
          },
          "metadata": {
            "tags": []
          },
          "execution_count": 40
        }
      ]
    },
    {
      "cell_type": "code",
      "metadata": {
        "id": "Cyf2ySLwo5Gz",
        "colab": {
          "base_uri": "https://localhost:8080/"
        },
        "outputId": "4f747745-c77c-4692-9bf0-560ff98f31fa"
      },
      "source": [
        "# max_depth = 3\n",
        "rf_3 = RandomForestClassifier(n_estimators=100,max_depth=2)\n",
        "rf_3.fit(X_train, Y_train)\n",
        "predict=rf_3.predict(X_test)\n",
        "rf_3.score(X_test, Y_test)"
      ],
      "execution_count": null,
      "outputs": [
        {
          "output_type": "execute_result",
          "data": {
            "text/plain": [
              "0.7832167832167832"
            ]
          },
          "metadata": {
            "tags": []
          },
          "execution_count": 41
        }
      ]
    },
    {
      "cell_type": "code",
      "metadata": {
        "id": "2PdipwA6o5XP",
        "colab": {
          "base_uri": "https://localhost:8080/"
        },
        "outputId": "c565ae3d-774f-4c66-cd87-3e5403da6179"
      },
      "source": [
        "# max_depth = 4\n",
        "rf_4 = RandomForestClassifier(n_estimators=100,max_depth=2)\n",
        "rf_4.fit(X_train, Y_train)\n",
        "predict=rf_4.predict(X_test)\n",
        "rf_4.score(X_test, Y_test)"
      ],
      "execution_count": null,
      "outputs": [
        {
          "output_type": "execute_result",
          "data": {
            "text/plain": [
              "0.8111888111888111"
            ]
          },
          "metadata": {
            "tags": []
          },
          "execution_count": 42
        }
      ]
    }
  ]
}