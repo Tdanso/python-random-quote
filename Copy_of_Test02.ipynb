{
  "nbformat": 4,
  "nbformat_minor": 0,
  "metadata": {
    "colab": {
      "name": "Copy of Test02",
      "provenance": [],
      "collapsed_sections": [],
      "include_colab_link": true
    },
    "kernelspec": {
      "name": "python3",
      "display_name": "Python 3"
    },
    "language_info": {
      "name": "python"
    }
  },
  "cells": [
    {
      "cell_type": "markdown",
      "metadata": {
        "id": "view-in-github",
        "colab_type": "text"
      },
      "source": [
        "<a href=\"https://colab.research.google.com/github/Tdanso/python-random-quote/blob/master/Copy_of_Test02.ipynb\" target=\"_parent\"><img src=\"https://colab.research.google.com/assets/colab-badge.svg\" alt=\"Open In Colab\"/></a>"
      ]
    },
    {
      "cell_type": "markdown",
      "metadata": {
        "id": "37OU-9GaDAL6"
      },
      "source": [
        "# Artificial Intelligence\n",
        "# Test 2\n",
        "\n",
        "**Instructions**\n",
        "- Test time: **Monday, May 24th, 1:30 - 3:30 pm**\n",
        "- Total score: 100 points\n",
        "- **Before you start,** make sure that you save a copy of this notebook in your Google Drive using the option \"Save a copy in Drive\" from the \"File\" menu.\n",
        "- There are two types of questions:\n",
        "    - **Short answer questions**: you are expected to write your response in detail in the text cells corresponding to these questions.\n",
        "    - **Coding questions**: you are expected to write correct Python statements, and show the execution results.\n",
        "- This is an open-book test. You can use the textbook and the class notes to help you solve the problems.\n",
        "- You can use functions imported from `sklearn`, `numpy`, `pandas`, and `matplotlib`.\n",
        "- **When you finish the test**, please download the notebook as a PDF file using the \"Print\" option from the \"File\" menu (choose \"Print to PDF\"). Submit the PDF file to Blackboard under the \"Test 1\" assignment before the end of the test.\n",
        "- **If you have any questions**, please join the class Zoom meeting 202 609 9616 and ask me."
      ]
    },
    {
      "cell_type": "markdown",
      "metadata": {
        "id": "_4v48XWuDRRz"
      },
      "source": [
        "## Question 1 (10 pts)\n",
        "\n",
        "Which of the following graphs indicate that the model (blue line) is overfitting the data (orange points)? Which graphs indicate underfitting?\n",
        "\n",
        "<img src=\"https://github.com/ch00226855/ImputationGAN/blob/master/Test02Img01.png?raw=true\" width=\"600\">\n"
      ]
    },
    {
      "cell_type": "markdown",
      "metadata": {
        "id": "j8SSp4rXEPK6"
      },
      "source": [
        "**Write your answers here (double-click this line to enable editing):**\n",
        "\n",
        "\n",
        "Overfitting refers to a modeling error that occurs when a function corresponds too closely to a dataset. As a result, overfitting may fail to fit additional data, and this may affect the accuracy of predicting future observations. and An underfit model will be less flexible and cannot account for the data.  \n",
        " so in this case answer C is overfitting \n",
        "  AGAIN Answer : C graph indicates that the model overfitting the data .\n",
        "\n",
        "Overfitting :- If \"Accuracy\" is very good and \"Validation Accuracy\" is not as good , it shows overfitting.\n",
        "\n",
        "B graph indicates underfitting.\n",
        "\n",
        "Underfitting :- It is the opposite counterpart of overfitting wherein your model exhibits high bias.\n",
        "\n",
        "\n",
        "\n"
      ]
    },
    {
      "cell_type": "markdown",
      "metadata": {
        "id": "lQFg6NKhEhXT"
      },
      "source": [
        "## Question 2 (10 pts)\n",
        "Describe a method that can detect outliers in a dataset.\n"
      ]
    },
    {
      "cell_type": "markdown",
      "metadata": {
        "id": "Y5SkjfSdL8BJ"
      },
      "source": [
        "**Write your answers here (double-click this line to enable editing):**\n",
        "\n",
        "\n",
        "Answer : Detect outliers in dataset\n",
        "\n",
        "(1)Boxplot :-\n",
        "\n",
        "Boxplot is a graphical representation of numerical data depicted through their quartiles or quantiles. It is a simple yet highly effective method to detect any anomaly or outlier.\n",
        "\n",
        "(2)Standard Deviation :-\n",
        "\n",
        "For instance, when the data distribution is normal, around 68 percent of the data value is said to lie within one standard deviation of the mean, while 95 percent happens to be within two standard deviations, and 99.7 percent within three standard deviations.Thus, having any data point which is three times more than the standard deviation, then those points can be identified as outliers.\n",
        "\n",
        "(3)DBScan Clustering :-\n",
        "\n",
        "The algorithm is used in identifying outliers using a density-based anomaly detection method. This method is ideal for both single and multi-dimensional data.\n",
        "\n",
        " when starting an outlier detection quest you have to answer two important questions about your dataset:\n",
        "Which and how many features am I taking into account to detect outliers ? (univariate / multivariate)\n",
        "Can I assume a distribution(s) of values for my selected features? (parametric / non-parametric)\n",
        "Some of the most popular methods for outlier detection are:\n",
        "Z-Score or Extreme Value Analysis (parametric)\n",
        "Probabilistic and Statistical Modeling (parametric)\n",
        "Linear Regression Models (PCA, LMS)\n",
        "Proximity Based Models (non-parametric)\n",
        "Information Theory Models\n",
        "\n",
        "\n",
        "\n",
        "\n"
      ]
    },
    {
      "cell_type": "markdown",
      "metadata": {
        "id": "G4cOVVMRFOCi"
      },
      "source": [
        "## Question 3 (30 pts)\n",
        "\n",
        "Apply the SVM model with polynomial kernel to build a classifier on the dataset generated below. Each record has three features: $x_1$ and $x_2$ are input features, and $y$ is the target class label. Choose a proper polynomial degree to achive at least 90% training accuracy.\n",
        "\n",
        "Write a code snippet that does the following:\n",
        "1. Build an SVM model with polynomial kernel using the `sklearn.svm.SVC` class.\n",
        "2. Train the model with `data`.\n",
        "3. Show that the accuracy of the model on `data` is above 90%."
      ]
    },
    {
      "cell_type": "code",
      "metadata": {
        "id": "b6ncgADlGZp2",
        "colab": {
          "base_uri": "https://localhost:8080/",
          "height": 204
        },
        "outputId": "d50bc9bc-26c7-4a21-ab33-df3635a15394"
      },
      "source": [
        "import numpy as np\n",
        "import pandas as pd\n",
        "import matplotlib.pyplot as plt\n",
        "from sklearn.model_selection import train_test_split\n",
        "from sklearn.ensemble import RandomForestClassifier\n",
        "from sklearn.feature_selection import SelectKBest\n",
        "# from sklearn.grid_search import GridSearchCV\n",
        "from sklearn.linear_model import LogisticRegression\n",
        "from sklearn.tree import DecisionTreeRegressor\n",
        "from sklearn.linear_model import LinearRegression\n",
        "import statsmodels.formula.api as sm\n",
        "from sklearn.svm import SVC, LinearSVC\n",
        "from sklearn.neighbors import KNeighborsClassifier\n",
        "from sklearn.tree import DecisionTreeClassifier\n",
        "from sklearn.feature_selection import SelectFromModel\n",
        "\n",
        "# Execute this cell to load the data.\n",
        "from sklearn.datasets import make_moons\n",
        "raw_data = make_moons(n_samples=200, noise=0.1, random_state=123)\n",
        "data = pd.DataFrame(raw_data[0], columns=['x1', 'x2'])\n",
        "data['y'] = raw_data[1]\n",
        "data.head()"
      ],
      "execution_count": 56,
      "outputs": [
        {
          "output_type": "execute_result",
          "data": {
            "text/html": [
              "<div>\n",
              "<style scoped>\n",
              "    .dataframe tbody tr th:only-of-type {\n",
              "        vertical-align: middle;\n",
              "    }\n",
              "\n",
              "    .dataframe tbody tr th {\n",
              "        vertical-align: top;\n",
              "    }\n",
              "\n",
              "    .dataframe thead th {\n",
              "        text-align: right;\n",
              "    }\n",
              "</style>\n",
              "<table border=\"1\" class=\"dataframe\">\n",
              "  <thead>\n",
              "    <tr style=\"text-align: right;\">\n",
              "      <th></th>\n",
              "      <th>x1</th>\n",
              "      <th>x2</th>\n",
              "      <th>y</th>\n",
              "    </tr>\n",
              "  </thead>\n",
              "  <tbody>\n",
              "    <tr>\n",
              "      <th>0</th>\n",
              "      <td>-0.046914</td>\n",
              "      <td>1.031404</td>\n",
              "      <td>0</td>\n",
              "    </tr>\n",
              "    <tr>\n",
              "      <th>1</th>\n",
              "      <td>0.273722</td>\n",
              "      <td>-0.161737</td>\n",
              "      <td>1</td>\n",
              "    </tr>\n",
              "    <tr>\n",
              "      <th>2</th>\n",
              "      <td>0.493077</td>\n",
              "      <td>0.797366</td>\n",
              "      <td>0</td>\n",
              "    </tr>\n",
              "    <tr>\n",
              "      <th>3</th>\n",
              "      <td>1.016273</td>\n",
              "      <td>-0.575626</td>\n",
              "      <td>1</td>\n",
              "    </tr>\n",
              "    <tr>\n",
              "      <th>4</th>\n",
              "      <td>0.857463</td>\n",
              "      <td>0.633812</td>\n",
              "      <td>0</td>\n",
              "    </tr>\n",
              "  </tbody>\n",
              "</table>\n",
              "</div>"
            ],
            "text/plain": [
              "         x1        x2  y\n",
              "0 -0.046914  1.031404  0\n",
              "1  0.273722 -0.161737  1\n",
              "2  0.493077  0.797366  0\n",
              "3  1.016273 -0.575626  1\n",
              "4  0.857463  0.633812  0"
            ]
          },
          "metadata": {
            "tags": []
          },
          "execution_count": 56
        }
      ]
    },
    {
      "cell_type": "code",
      "metadata": {
        "id": "iH1u8wviGoav",
        "colab": {
          "base_uri": "https://localhost:8080/",
          "height": 265
        },
        "outputId": "131fefc7-ec64-4c12-f7b5-69c5552b6355"
      },
      "source": [
        "# Visualize the data\n",
        "for label in data['y'].unique():\n",
        "    subdata = data[data['y'] == label]\n",
        "    plt.scatter(subdata['x1'], subdata['x2'], cmap=plt.cm.rainbow, label=(\"y = %d\" % label))\n",
        "plt.legend()\n",
        "plt.show()"
      ],
      "execution_count": 57,
      "outputs": [
        {
          "output_type": "display_data",
          "data": {
            "image/png": "[encoded data removed]",
            "text/plain": [
              "<Figure size 432x288 with 1 Axes>"
            ]
          },
          "metadata": {
            "tags": []
          }
        }
      ]
    },
    {
      "cell_type": "code",
      "metadata": {
        "id": "ECv_JbDtH4vx"
      },
      "source": [
        "# Write your code here\n",
        "# 1. Build an SVM model with polynomial kernel using the sklearn.svm.SVC class.\n",
        "\n",
        "# Build an SVM model with polynomial kernel\n",
        "\n",
        "from sklearn import svm\n",
        "clf = svm.SVC(kernel='poly', degree = 3) # taken the degree = 3\n"
      ],
      "execution_count": 58,
      "outputs": []
    },
    {
      "cell_type": "code",
      "metadata": {
        "id": "xHgwYT_JJnqG",
        "colab": {
          "base_uri": "https://localhost:8080/",
          "height": 0
        },
        "outputId": "5123d9d5-8672-4ccb-a762-e035be0359df"
      },
      "source": [
        "# Write your code here\n",
        "# 2. Train the model with data.\n",
        "\n",
        "clf.fit(data[['x1', 'x2']], data['y']) #fitting input & output data\n",
        "\n"
      ],
      "execution_count": 59,
      "outputs": [
        {
          "output_type": "execute_result",
          "data": {
            "text/plain": [
              "SVC(C=1.0, break_ties=False, cache_size=200, class_weight=None, coef0=0.0,\n",
              "    decision_function_shape='ovr', degree=3, gamma='scale', kernel='poly',\n",
              "    max_iter=-1, probability=False, random_state=None, shrinking=True,\n",
              "    tol=0.001, verbose=False)"
            ]
          },
          "metadata": {
            "tags": []
          },
          "execution_count": 59
        }
      ]
    },
    {
      "cell_type": "code",
      "metadata": {
        "id": "JOPMwdkCKZId",
        "colab": {
          "base_uri": "https://localhost:8080/",
          "height": 0
        },
        "outputId": "9a47337b-d577-4be9-b29d-73bc8e6de13c"
      },
      "source": [
        "# Write your code here\n",
        "# Show that the accuracy of the model on data is above 90%.\n",
        "\n",
        "pred = clf.predict(data[['x1','x2']])\n",
        "from sklearn import metrics\n",
        "print(\"Accuracy:\",metrics.accuracy_score(data['y'], pred))\n"
      ],
      "execution_count": 60,
      "outputs": [
        {
          "output_type": "stream",
          "text": [
            "Accuracy: 0.95\n"
          ],
          "name": "stdout"
        }
      ]
    },
    {
      "cell_type": "markdown",
      "metadata": {
        "id": "Qu2_O77XKuFr"
      },
      "source": [
        "## Question 4 (30 pts)\n",
        "\n",
        "The following dataset contains 11 biomedical attributes of 720 individuals. You are expected to build a decision tree model on this dataset and find out who are more likely to have heart disease."
      ]
    },
    {
      "cell_type": "code",
      "metadata": {
        "id": "tC8-BUS5SQVR",
        "colab": {
          "base_uri": "https://localhost:8080/",
          "height": 204
        },
        "outputId": "01e81d85-92cc-44ca-fa5a-faa9a1071a7a"
      },
      "source": [
        "# Execute this cell to load the data.\n",
        "import seaborn as sns\n",
        "url = \"https://github.com/SpiroGanas/Heart-Disease-Machine-Learning/raw/master/heart_disease_df.csv\"\n",
        "data2 = pd.read_csv(url, sep=',', index_col=0)\n",
        "data2.drop(['slope', 'ca', 'thal', 'Source'], inplace=True, axis=1)\n",
        "data2 = data2.dropna()\n",
        "data2['diagnosis'] = (data2['diagnosis'] > 0).astype(int)\n",
        "data2.head()"
      ],
      "execution_count": 61,
      "outputs": [
        {
          "output_type": "execute_result",
          "data": {
            "text/html": [
              "<div>\n",
              "<style scoped>\n",
              "    .dataframe tbody tr th:only-of-type {\n",
              "        vertical-align: middle;\n",
              "    }\n",
              "\n",
              "    .dataframe tbody tr th {\n",
              "        vertical-align: top;\n",
              "    }\n",
              "\n",
              "    .dataframe thead th {\n",
              "        text-align: right;\n",
              "    }\n",
              "</style>\n",
              "<table border=\"1\" class=\"dataframe\">\n",
              "  <thead>\n",
              "    <tr style=\"text-align: right;\">\n",
              "      <th></th>\n",
              "      <th>age</th>\n",
              "      <th>sex</th>\n",
              "      <th>cp</th>\n",
              "      <th>trestbps</th>\n",
              "      <th>chol</th>\n",
              "      <th>fbs</th>\n",
              "      <th>restecg</th>\n",
              "      <th>thalach</th>\n",
              "      <th>exang</th>\n",
              "      <th>oldpeak</th>\n",
              "      <th>diagnosis</th>\n",
              "    </tr>\n",
              "  </thead>\n",
              "  <tbody>\n",
              "    <tr>\n",
              "      <th>0</th>\n",
              "      <td>63.0</td>\n",
              "      <td>1.0</td>\n",
              "      <td>1.0</td>\n",
              "      <td>145.0</td>\n",
              "      <td>233.0</td>\n",
              "      <td>1.0</td>\n",
              "      <td>2.0</td>\n",
              "      <td>150.0</td>\n",
              "      <td>0.0</td>\n",
              "      <td>2.3</td>\n",
              "      <td>0</td>\n",
              "    </tr>\n",
              "    <tr>\n",
              "      <th>1</th>\n",
              "      <td>67.0</td>\n",
              "      <td>1.0</td>\n",
              "      <td>4.0</td>\n",
              "      <td>160.0</td>\n",
              "      <td>286.0</td>\n",
              "      <td>0.0</td>\n",
              "      <td>2.0</td>\n",
              "      <td>108.0</td>\n",
              "      <td>1.0</td>\n",
              "      <td>1.5</td>\n",
              "      <td>1</td>\n",
              "    </tr>\n",
              "    <tr>\n",
              "      <th>2</th>\n",
              "      <td>67.0</td>\n",
              "      <td>1.0</td>\n",
              "      <td>4.0</td>\n",
              "      <td>120.0</td>\n",
              "      <td>229.0</td>\n",
              "      <td>0.0</td>\n",
              "      <td>2.0</td>\n",
              "      <td>129.0</td>\n",
              "      <td>1.0</td>\n",
              "      <td>2.6</td>\n",
              "      <td>1</td>\n",
              "    </tr>\n",
              "    <tr>\n",
              "      <th>3</th>\n",
              "      <td>37.0</td>\n",
              "      <td>1.0</td>\n",
              "      <td>3.0</td>\n",
              "      <td>130.0</td>\n",
              "      <td>250.0</td>\n",
              "      <td>0.0</td>\n",
              "      <td>0.0</td>\n",
              "      <td>187.0</td>\n",
              "      <td>0.0</td>\n",
              "      <td>3.5</td>\n",
              "      <td>0</td>\n",
              "    </tr>\n",
              "    <tr>\n",
              "      <th>4</th>\n",
              "      <td>41.0</td>\n",
              "      <td>0.0</td>\n",
              "      <td>2.0</td>\n",
              "      <td>130.0</td>\n",
              "      <td>204.0</td>\n",
              "      <td>0.0</td>\n",
              "      <td>2.0</td>\n",
              "      <td>172.0</td>\n",
              "      <td>0.0</td>\n",
              "      <td>1.4</td>\n",
              "      <td>0</td>\n",
              "    </tr>\n",
              "  </tbody>\n",
              "</table>\n",
              "</div>"
            ],
            "text/plain": [
              "    age  sex   cp  trestbps   chol  ...  restecg  thalach  exang  oldpeak  diagnosis\n",
              "0  63.0  1.0  1.0     145.0  233.0  ...      2.0    150.0    0.0      2.3          0\n",
              "1  67.0  1.0  4.0     160.0  286.0  ...      2.0    108.0    1.0      1.5          1\n",
              "2  67.0  1.0  4.0     120.0  229.0  ...      2.0    129.0    1.0      2.6          1\n",
              "3  37.0  1.0  3.0     130.0  250.0  ...      0.0    187.0    0.0      3.5          0\n",
              "4  41.0  0.0  2.0     130.0  204.0  ...      2.0    172.0    0.0      1.4          0\n",
              "\n",
              "[5 rows x 11 columns]"
            ]
          },
          "metadata": {
            "tags": []
          },
          "execution_count": 61
        }
      ]
    },
    {
      "cell_type": "markdown",
      "metadata": {
        "id": "KHFe3x11Sgm9"
      },
      "source": [
        "Column information:\n",
        "\n",
        "1. `age`\n",
        "2. `sex`: 0 = female, 1 = male\n",
        "3. `cp`: chest pain type (4 values)\n",
        "4. `trestbps`: resting blood pressure\n",
        "5. `chol`: serum cholestoral in mg/dl\n",
        "6. `fbs`: fasting blood sugar > 120 mg/dl\n",
        "7. `restecg`: resting electrocardiographic results (values 0,1,2)\n",
        "8. `thalach`: maximum heart rate achieved\n",
        "9. `exang`: exercise induced angina\n",
        "10. `oldpeak`: ST depression induced by exercise relative to rest\n",
        "\n",
        "The last column `diagnosis` is the target feature, where 1 means that the person has been diagnosed as having heart disease, and 0 means otherwise.\n",
        "\n",
        "Please do the following:\n",
        "1. Build a depth-3 decision tree classifier to prediction the `diagnosis` value from other features.\n",
        "2. Visualize the model as a tree of conditions. You may need to include statement `plt.figure(figsize=(15, 15))` to make the plot readable.\n",
        "3. Identify a group of conditions that lead to high risk of heart disease. Also identify a group of conditions that lead to low risk of heart disease."
      ]
    },
    {
      "cell_type": "markdown",
      "metadata": {
        "id": "3SBOOxVlVHZO"
      },
      "source": [
        "3. Identify a group of conditions that lead to high risk of heart disease. Also identify a group of conditions that lead to low risk of heart disease.\n",
        "\n",
        "**Write your answer here:** \n",
        "Heart Disease is very common in the seniors which is composed of age group 60 and above and common among adults which belong to the age group of 41 to 60. But it’s rare among the age group of 19 to 40 and very rare among the age group of 0 to 18.\n",
        "\n",
        "\n"
      ]
    },
    {
      "cell_type": "code",
      "metadata": {
        "id": "Oq-D_6fMWSlX"
      },
      "source": [
        "# Write your code here\n",
        "# 1. Build a depth-3 decision tree classifier to prediction the diagnosis value from other features.\n",
        "from sklearn.tree import plot_tree\n",
        "# age: The person's age in years\n",
        "# sex: The person's sex (1 = male, 0 = female)\n",
        "# cp: The chest pain experienced (Value 1: typical angina, Value 2: atypical angina, Value 3: non-anginal pain, Value 4: asymptomatic)\n",
        "# trestbps: The person's resting blood pressure (mm Hg on admission to the hospital)\n",
        "# chol: The person's cholesterol measurement in mg/dl\n",
        "# fbs: The person's fasting blood sugar (> 120 mg/dl, 1 = true; 0 = false)\n",
        "# restecg: Resting electrocardiographic measurement (0 = normal, 1 = having ST-T wave abnormality, 2 = showing probable or definite left ventricular hypertrophy by Estes' criteria)\n",
        "# thalach: The person's maximum heart rate achieved   exang: Exercise induced angina (1 = yes; 0 = no)  \n",
        "# oldpeak: ST depression induced by exercise relative to rest ('ST' relates to positions on the ECG plot. See more here)\n",
        "# slope: the slope of the peak exercise ST segment (Value 1: upsloping, Value 2: flat, Value 3: downsloping)\n",
        "# ca: The number of major vessels (0-3)\n",
        "# thal: A blood disorder called thalassemia (3 = normal; 6 = fixed defect; 7 = reversable defect)\n",
        "# target: Heart disease (0 = no, 1 = yes)\n",
        "\n",
        "from sklearn.feature_selection import SelectKBest\n",
        "from sklearn.feature_selection import chi2\n",
        "data2 = data2.copy()\n",
        "X = data2.iloc[:,0:13]  #independent columns\n",
        "y = data2.iloc[:,-1]    #target column \n",
        "#apply SelectKBest class to extract top best features\n",
        "bestfeatures = SelectKBest(score_func=chi2, k=10)\n",
        "fit = bestfeatures.fit(X,y)\n",
        "dfscores = pd.DataFrame(fit.scores_)\n",
        "dfcolumns = pd.DataFrame(X.columns)\n",
        "#concat two dataframes for better visualization \n",
        "featureScores = pd.concat([dfcolumns,dfscores],axis=1)\n",
        "featureScores.columns = ['Specs','Score']  #naming the dataframe columns\n",
        "print(featureScores.nlargest(12,'Score'))  #print best features\n",
        "\n",
        "\n"
      ],
      "execution_count": null,
      "outputs": []
    },
    {
      "cell_type": "code",
      "metadata": {
        "id": "YCj9x14nTQzM"
      },
      "source": [
        "# Write your code here\n",
        "# 2. Visualize the model as a tree of conditions. You may need to include statement plt.figure(figsize=(10, 10)) to make the plot readable.\n",
        "from sklearn.tree import plot_tree\n",
        "from sklearn.tree import export_graphviz\n",
        "\n",
        "plt.figure(figsize=(10,10))\n",
        "plot_tree(tree_clf, feature_name=X.columns, filled=true) \n",
        "plt.show\n",
        "\n"
      ],
      "execution_count": null,
      "outputs": []
    },
    {
      "cell_type": "markdown",
      "metadata": {
        "id": "fH3QZaaQLrhi"
      },
      "source": [
        "## Question 5 (20 pts)\n",
        "1. Define a `relu()` function that represents the ReLU function defined as:\n",
        "$$ ReLU(t) = \\max\\{0, t\\}.$$\n",
        "For example, `relu(0)` returns 0, `relu(5)` returns 5, and `relu(-5)` returns 0. This function will be used as the activation function of neurons in the next step."
      ]
    },
    {
      "cell_type": "code",
      "metadata": {
        "id": "OgF_dgb2k0Cq"
      },
      "source": [
        "from matplotlib import pyplot\n",
        "from matplotlib.colors import ListedColormap\n",
        "import tensorflow as tf\n",
        "#f(x)=max(0,x)"
      ],
      "execution_count": 62,
      "outputs": []
    },
    {
      "cell_type": "code",
      "metadata": {
        "id": "u10vHFBBLtTm"
      },
      "source": [
        "# Code for relu():\n",
        "def relu_function(x):\n",
        "  if x>0:\n",
        "\t  return x\n",
        "  else: \n",
        "    return 0\n",
        "  relu_function(7), relu_function(-7)\n",
        "  \n",
        "  print(\" relu_function(0):\", relu_function(0))\n",
        "  print(\" relu_function(5):\", relu_function(5))\n",
        "  print(\" relu_function(-5):\", relu_function(-5))\n",
        "  print(\" relu_function(7):\", relu_function(7))\n"
      ],
      "execution_count": 63,
      "outputs": []
    },
    {
      "cell_type": "code",
      "metadata": {
        "id": "jjWhw4OclYdv",
        "colab": {
          "base_uri": "https://localhost:8080/",
          "height": 0
        },
        "outputId": "36097402-385a-4bb7-bc58-0e7634ab20c6"
      },
      "source": [
        "relu_function(7), relu_function(-7)\n",
        "relu_function(0), relu_function(0)\n",
        "relu_function(5), relu_function(5)\n",
        "relu_function(-5), relu_function(0)\n",
        "relu_function(-7), relu_function(7)"
      ],
      "execution_count": 64,
      "outputs": [
        {
          "output_type": "execute_result",
          "data": {
            "text/plain": [
              "(0, 7)"
            ]
          },
          "metadata": {
            "tags": []
          },
          "execution_count": 64
        }
      ]
    },
    {
      "cell_type": "code",
      "metadata": {
        "colab": {
          "base_uri": "https://localhost:8080/",
          "height": 320
        },
        "id": "Y6DBeUmttItQ",
        "outputId": "b70839e9-8c08-4de6-d1a5-f105bf5e5228"
      },
      "source": [
        "from matplotlib import pyplot\n",
        "pyplot.style.use('ggplot')\n",
        "pyplot.figure(figsize=(10,5))\n",
        "# define a series of inputs\n",
        "input_series = [x for x in range(-19, 19)]\n",
        "# calculate outputs for our inputs\n",
        "output_series = [ReLU(x) for x in input_series]\n",
        "# line plot of raw inputs to rectified outputs\n",
        "pyplot.plot(input_series, output_series)\n",
        "pyplot.show()"
      ],
      "execution_count": 65,
      "outputs": [
        {
          "output_type": "display_data",
          "data": {
            "image/png": "[encoded data removed]",
            "text/plain": [
              "<Figure size 720x360 with 1 Axes>"
            ]
          },
          "metadata": {
            "tags": []
          }
        }
      ]
    },
    {
      "cell_type": "markdown",
      "metadata": {
        "id": "tgre-f95OV-Y"
      },
      "source": [
        "2. Suppose that 3-layer neural network is defined as below:\n",
        "\n",
        "<img src=\"https://github.com/ch00226855/ImputationGAN/blob/master/Test02Img02.png?raw=true\" width=\"400\">\n",
        "\n",
        "The number near each arrow is the weight parameter associated with that connection. Suppose that there are no bias parameters.\n",
        "\n",
        "Suppose that both neurons in the input layer receives value 1 from the data. Calculate and print the input and output of each neuron in the hidden layer and the output layer."
      ]
    },
    {
      "cell_type": "code",
      "metadata": {
        "id": "p_Dzc_Q_OzZb"
      },
      "source": [
        "# Write your calculations here:\n",
        "# 2 (-.05)(1)+(-0.32)(1) = Ii = -0.82 relu(-.82) = 0\n",
        "# 3 (1.01)(1)+(-0.24)(1) = Ii = 0.77 relu(0.77) = 0.77\n",
        "# 4 (0.23)(1)+(-0.12)(1) = Ii = 0.11 relu(0.11) = 0.11\n",
        "# 5 0(.15)+(1.32)+(.77)+9(-0.37)(.11) = Ii = .9757relu(.9757) = .9757\n",
        "\n"
      ],
      "execution_count": null,
      "outputs": []
    }
  ]
}