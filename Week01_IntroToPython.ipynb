{
  "nbformat": 4,
  "nbformat_minor": 0,
  "metadata": {
    "kernelspec": {
      "display_name": "Python 3",
      "language": "python",
      "name": "python3"
    },
    "language_info": {
      "codemirror_mode": {
        "name": "ipython",
        "version": 3
      },
      "file_extension": ".py",
      "mimetype": "text/x-python",
      "name": "python",
      "nbconvert_exporter": "python",
      "pygments_lexer": "ipython3",
      "version": "3.8.3"
    },
    "colab": {
      "name": "Week1_IntroToPython.ipynb",
      "provenance": [],
      "collapsed_sections": [],
      "include_colab_link": true
    }
  },
  "cells": [
    {
      "cell_type": "markdown",
      "metadata": {
        "id": "view-in-github",
        "colab_type": "text"
      },
      "source": [
        "<a href=\"https://colab.research.google.com/github/Tdanso/python-random-quote/blob/master/Week01_IntroToPython.ipynb\" target=\"_parent\"><img src=\"https://colab.research.google.com/assets/colab-badge.svg\" alt=\"Open In Colab\"/></a>"
      ]
    },
    {
      "cell_type": "markdown",
      "metadata": {
        "id": "Lz5BrMH3Toom"
      },
      "source": [
        "# Week 1\n",
        "# Introduction to Python\n",
        "\n",
        "Python is today's most popular programming language. It is easy to learn, and has several very powerful scientific computing libraries, making it a powerful environment for scientific computing.\n",
        "\n",
        "This tutorial will cover basic features of python and two of its libraries: numpy and matplotlib.\n",
        "\n",
        "This notebook can be opened in Google Colab via this button:\n",
        "\n",
        "<a href=\"https://colab.research.google.com/github/ch00226855/CMP414765Spring2021/blob/main/Week01_IntroToPython.ipynb\" target=\"_parent\"><img src=\"https://colab.research.google.com/assets/colab-badge.svg\" alt=\"Open In Colab\"/></a>"
      ]
    },
    {
      "cell_type": "markdown",
      "metadata": {
        "id": "QVQGk8J7dxP1"
      },
      "source": [
        "## 1. Hello World"
      ]
    },
    {
      "cell_type": "code",
      "metadata": {
        "id": "hb1QWIR-Toou"
      },
      "source": [
        "# Print Hello World\n",
        "\n",
        "print(\"Hello World\")"
      ],
      "execution_count": null,
      "outputs": []
    },
    {
      "cell_type": "markdown",
      "metadata": {
        "id": "TRyN_aCIdkii"
      },
      "source": [
        "## 2. Variables\n",
        "- Declare a variable\n",
        "- Variable types"
      ]
    },
    {
      "cell_type": "code",
      "metadata": {
        "id": "X_G-ucJbd4m5"
      },
      "source": [
        "# Variable are declared without specifying types\n",
        "a = 4\n",
        "b = -5\n",
        "print(a + b)"
      ],
      "execution_count": null,
      "outputs": []
    },
    {
      "cell_type": "code",
      "metadata": {
        "id": "FqO3FNvId-pI"
      },
      "source": [
        "# The type of a variable is automatically determined\n",
        "a1 = 4\n",
        "a2 = \"4\"\n",
        "print(type(a1))\n",
        "print(type(a2))"
      ],
      "execution_count": null,
      "outputs": []
    },
    {
      "cell_type": "code",
      "metadata": {
        "id": "OLj0R_VqeLIS"
      },
      "source": [
        "# Other commonly-used types are float and boolean\n",
        "c = 1.5\n",
        "d = True\n",
        "print(type(c))\n",
        "print(type(d))"
      ],
      "execution_count": null,
      "outputs": []
    },
    {
      "cell_type": "code",
      "metadata": {
        "id": "3dHuCZtueV2D"
      },
      "source": [
        "# Variable types can be changed like this:\n",
        "float_a = float(a)\n",
        "\n",
        "# Exercise: show the variable type of float_a\n",
        "\n",
        "print(type(float_a))"
      ],
      "execution_count": null,
      "outputs": []
    },
    {
      "cell_type": "markdown",
      "metadata": {
        "id": "j5khvCpgeezq"
      },
      "source": [
        "## 3. Arithmetics"
      ]
    },
    {
      "cell_type": "code",
      "metadata": {
        "id": "0igCkYAdeku-"
      },
      "source": [
        "# +, -, *, /"
      ],
      "execution_count": null,
      "outputs": []
    },
    {
      "cell_type": "code",
      "metadata": {
        "id": "I0WohlTFeobE"
      },
      "source": [
        "# // -> integer division\n",
        "print(4 / 3) # gives a floating point number\n",
        "print(4 // 3) # integer division always give an integer as answer"
      ],
      "execution_count": null,
      "outputs": []
    },
    {
      "cell_type": "code",
      "metadata": {
        "id": "wYXg_9Fnexhj"
      },
      "source": [
        "# % -> Get remainder from integer division\n",
        "print(5 % 3) "
      ],
      "execution_count": null,
      "outputs": []
    },
    {
      "cell_type": "code",
      "metadata": {
        "id": "vpjAWYCze1kM"
      },
      "source": [
        "# ** -> powers\n",
        "print(3 ** 2) # represents 3 to the power of 2 = 9\n",
        "print(3 ** (1/2)) # square root of 3"
      ],
      "execution_count": null,
      "outputs": []
    },
    {
      "cell_type": "markdown",
      "metadata": {
        "id": "oVGyc0Ege73q"
      },
      "source": [
        "Exercise: quadratic formula:\n",
        "\n",
        "$x = \\frac{-b \\pm \\sqrt{b^2 - 4ac}}{2a}$"
      ]
    },
    {
      "cell_type": "code",
      "metadata": {
        "id": "NOI9dMrme-vB"
      },
      "source": [
        "# Use quadratic formulat to solve equation x**2 - 5x + 4 = 0\n",
        "a = 1\n",
        "b = -5\n",
        "c = 4\n",
        "\n",
        "x1 = \n",
        "x2 = \n",
        "\n",
        "print(x1, x2)"
      ],
      "execution_count": null,
      "outputs": []
    },
    {
      "cell_type": "markdown",
      "metadata": {
        "id": "cRyFUKAwfWJS"
      },
      "source": [
        "## 4. Assignment Operators"
      ]
    },
    {
      "cell_type": "code",
      "metadata": {
        "id": "Ws6n-DSdfeKR"
      },
      "source": [
        "a = 1\n",
        "a += 1 # a = a + 1\n",
        "print(a)"
      ],
      "execution_count": null,
      "outputs": []
    },
    {
      "cell_type": "code",
      "metadata": {
        "id": "hMK9CWGSfh2R"
      },
      "source": [
        "b, c, d = 2, 3, 4\n",
        "b -= 5\n",
        "c *= 10\n",
        "d /= 2\n",
        "print(b, c, d)"
      ],
      "execution_count": null,
      "outputs": []
    },
    {
      "cell_type": "markdown",
      "metadata": {
        "id": "mboXt1rtfiW8"
      },
      "source": [
        "## 5. Logical Operators"
      ]
    },
    {
      "cell_type": "code",
      "metadata": {
        "id": "RRsX5UM3fk9A"
      },
      "source": [
        "t, f = True, False\n",
        "print(t, f)"
      ],
      "execution_count": null,
      "outputs": []
    },
    {
      "cell_type": "code",
      "metadata": {
        "id": "vjU1ZTcmfl49"
      },
      "source": [
        "print(True or False) # \"or\" means or\n",
        "print(True and False) # \"and\" means and\n",
        "print(not True)\n",
        "print(not False)"
      ],
      "execution_count": null,
      "outputs": []
    },
    {
      "cell_type": "code",
      "metadata": {
        "id": "U0BJn7LffnPu"
      },
      "source": [
        "# Comparisons: >, <, ==, !=, >=, <=\n",
        "exp1 = (a > 5) and (b < 3)\n",
        "print(a, b, exp1)"
      ],
      "execution_count": null,
      "outputs": []
    },
    {
      "cell_type": "markdown",
      "metadata": {
        "id": "jzsZKSN-fpMn"
      },
      "source": [
        "## 6. Strings"
      ]
    },
    {
      "cell_type": "code",
      "metadata": {
        "id": "5kzC2YhRfrUB"
      },
      "source": [
        "str1 = \"Hello\"\n",
        "str2 = 'World'\n",
        "str3 = '3'\n",
        "print(type(str3))\n",
        "print(str1 + str2 + str3) # Use \"+\" to concatenate strings\n",
        "print(\"My \\n Name \\n Is \\t Liang.\")\n",
        "print('I said \"Good Morning\"') # If the string contains \"\", then use '' to define the string\n",
        "print(\"I said \\\"Good Morning\\\"\")"
      ],
      "execution_count": null,
      "outputs": []
    },
    {
      "cell_type": "code",
      "metadata": {
        "id": "rBzL3xRGfuTd"
      },
      "source": [
        "# Remove extra space at the beginning and the end of a string\n",
        "data_value = \"     Liang Zhao     \"\n",
        "my_name = \"Liang Zhao\"\n",
        "print(data_value == my_name)\n",
        "print(data_value.strip())"
      ],
      "execution_count": null,
      "outputs": []
    },
    {
      "cell_type": "code",
      "metadata": {
        "id": "ODUH7f93fywM"
      },
      "source": [
        "# Split a string\n",
        "file_names = \"Alex, Bob, Clare, David\"\n",
        "file_names.split(\", \")"
      ],
      "execution_count": null,
      "outputs": []
    },
    {
      "cell_type": "code",
      "metadata": {
        "id": "RMVTAFyvf0R3"
      },
      "source": [
        "# String formatting\n",
        "float_num = 45.67898765\n",
        "print(float_num)\n",
        "print(\"%5.2f\" % (float_num))\n",
        "formatted_string = \"Name: %10s | Score: %5d | Value: %.2f\" % (\"Alex\", 89, 12.345)\n",
        "print(formatted_string)\n",
        "formatted_string = \"Name: %10s | Score: %5d | Value: %.2f\" % (\"Bob\", 9, 543.21)\n",
        "print(formatted_string)"
      ],
      "execution_count": null,
      "outputs": []
    },
    {
      "cell_type": "markdown",
      "metadata": {
        "id": "MaW9r2J9f4Y3"
      },
      "source": [
        "## 7. Data Containers\n",
        "Data containers are structures used to contain multiple values. "
      ]
    },
    {
      "cell_type": "code",
      "metadata": {
        "id": "vyWnAkAWgCLa"
      },
      "source": [
        "# List\n",
        "list1 = [1, 2, 3, 4, 6.5, \"Monday\", True]"
      ],
      "execution_count": null,
      "outputs": []
    },
    {
      "cell_type": "code",
      "metadata": {
        "id": "5zur4jongEFu"
      },
      "source": [
        "print(list1)\n",
        "list1.append(12)\n",
        "print(list1)"
      ],
      "execution_count": null,
      "outputs": []
    },
    {
      "cell_type": "code",
      "metadata": {
        "id": "uMP2tVcjgF8J"
      },
      "source": [
        "val = list1.pop()\n",
        "print(val)\n",
        "print(list1)"
      ],
      "execution_count": null,
      "outputs": []
    },
    {
      "cell_type": "code",
      "metadata": {
        "id": "t2bXvoYwgHct"
      },
      "source": [
        "# Indexing\n",
        "print(list1[0])\n",
        "print(list1[1])\n",
        "print(list1[-1])\n",
        "print(list1[-2])\n",
        "print(list1[2:5]) # the second index is exclusive\n",
        "print(list1[:5]) # omitting the first index means starting from 0\n",
        "print(list1[2:]) # omitting the second index means going to the end\n",
        "print(list1[:]) "
      ],
      "execution_count": null,
      "outputs": []
    },
    {
      "cell_type": "code",
      "metadata": {
        "id": "A_7NLo32gJWF"
      },
      "source": [
        "len(list1)"
      ],
      "execution_count": null,
      "outputs": []
    },
    {
      "cell_type": "code",
      "metadata": {
        "id": "u60JO2tagLLg"
      },
      "source": [
        "# Set\n",
        "set1 = {1, 2, 3, 3, 2, 1}\n",
        "print(set1)"
      ],
      "execution_count": null,
      "outputs": []
    },
    {
      "cell_type": "code",
      "metadata": {
        "id": "WglaNODSgNI8"
      },
      "source": [
        "# Tuple\n",
        "tuple1 = (1, 2, 3)\n",
        "tuple2 = (2, 3, 1)\n",
        "print(tuple1 == tuple2)"
      ],
      "execution_count": null,
      "outputs": []
    },
    {
      "cell_type": "code",
      "metadata": {
        "id": "JnK4x1psgPcE"
      },
      "source": [
        "# Dictionary: (key, value)\n",
        "dict1 = {\"Alex\": \"A\",\n",
        "         \"Bob\": \"B\", \n",
        "         \"Clare\": \"C\"}\n",
        "print(dict1['Alex'])\n",
        "print(dict1['Clare'])"
      ],
      "execution_count": null,
      "outputs": []
    },
    {
      "cell_type": "markdown",
      "metadata": {
        "id": "lLbW09mIAv0p"
      },
      "source": [
        "### 8. Loops and Branches"
      ]
    },
    {
      "cell_type": "code",
      "metadata": {
        "id": "Y5PZXQBhAy9H"
      },
      "source": [
        "names = ['Alex', 'Bob', 'Clare']\n",
        "for name in names: # for (variable) in (list of values):\n",
        "    print(dict1[name]) # Use indentation (4 spaces) to indicate the loop body"
      ],
      "execution_count": null,
      "outputs": []
    },
    {
      "cell_type": "code",
      "metadata": {
        "id": "tsHO6rDeA22Y"
      },
      "source": [
        "a = 2\n",
        "if a > 0:\n",
        "    print(\"Greater than zero.\")\n",
        "else: \n",
        "    print(\"Not greater than zero.\")"
      ],
      "execution_count": null,
      "outputs": []
    },
    {
      "cell_type": "code",
      "metadata": {
        "id": "1lbDjThfA5wt"
      },
      "source": [
        "a = 2\n",
        "b = 4\n",
        "if a < 0:\n",
        "    print(\"a less than zero\")\n",
        "elif b > 0: # \"elif\" means \"else if\"\n",
        "    print(\"a not less than zero, and b greater than zero\")\n",
        "else:\n",
        "    print(\"neither is greater than zero\")"
      ],
      "execution_count": null,
      "outputs": []
    },
    {
      "cell_type": "markdown",
      "metadata": {
        "id": "FGVmRCqAA7ro"
      },
      "source": [
        "### 9. Functions"
      ]
    },
    {
      "cell_type": "code",
      "metadata": {
        "id": "SsuWRfZbA-CX"
      },
      "source": [
        "def sum_of_list(list1):\n",
        "    sum = 0\n",
        "    for x in list1:\n",
        "        sum += x\n",
        "    return sum"
      ],
      "execution_count": null,
      "outputs": []
    },
    {
      "cell_type": "code",
      "metadata": {
        "id": "DE48EenVBDwP"
      },
      "source": [
        "sum_of_list(list1)"
      ],
      "execution_count": null,
      "outputs": []
    },
    {
      "cell_type": "code",
      "metadata": {
        "id": "lGXdJHiFBFGg"
      },
      "source": [
        "# Exercise: Create a funtion that finds the maximum value of a list\n",
        "def find_maximum(list1):\n",
        "    pass\n"
      ],
      "execution_count": null,
      "outputs": []
    },
    {
      "cell_type": "markdown",
      "metadata": {
        "id": "-vcua-N0BLNG"
      },
      "source": [
        "## 10. Classes"
      ]
    },
    {
      "cell_type": "code",
      "metadata": {
        "id": "0a1Fjmt0BWDA"
      },
      "source": [
        "class Person():\n",
        "\n",
        "    def __init__(self, name, age):\n",
        "        self.name = name\n",
        "        self.age = age\n",
        "        print(\"Person object created.\")\n",
        "\n",
        "    def print(self):\n",
        "        print(\"Name:\", self.name, \" | Age: \", self.age)"
      ],
      "execution_count": null,
      "outputs": []
    },
    {
      "cell_type": "code",
      "metadata": {
        "id": "0S57MJgLBliW"
      },
      "source": [
        "alice = Person(\"Alice\", 25)"
      ],
      "execution_count": null,
      "outputs": []
    },
    {
      "cell_type": "code",
      "metadata": {
        "id": "DqXJCNdmBoU8"
      },
      "source": [
        "alice.print()"
      ],
      "execution_count": null,
      "outputs": []
    },
    {
      "cell_type": "code",
      "metadata": {
        "id": "4k54RYN-Bt7b"
      },
      "source": [
        "class Student(Person):\n",
        "\n",
        "    def __init__(self, name, age, id):\n",
        "        super().__init__(name, age)\n",
        "        self.id = id\n",
        "        print(\"Student object created.\")\n",
        "\n",
        "    def print(self):\n",
        "        super().print()\n",
        "        print(\"ID: \", self.id)"
      ],
      "execution_count": null,
      "outputs": []
    },
    {
      "cell_type": "code",
      "metadata": {
        "id": "G-8eLyI6B-mL"
      },
      "source": [
        "alice = Student(\"Alice\", 25, 12345)"
      ],
      "execution_count": null,
      "outputs": []
    },
    {
      "cell_type": "code",
      "metadata": {
        "id": "bCNiW-WTCBgr"
      },
      "source": [
        "alice.print()"
      ],
      "execution_count": null,
      "outputs": []
    },
    {
      "cell_type": "markdown",
      "metadata": {
        "id": "_--ha2rYCWA9"
      },
      "source": [
        "## Example Program: Analyze Test Scores\n"
      ]
    },
    {
      "cell_type": "code",
      "metadata": {
        "id": "fCLNt7SYDCgH"
      },
      "source": [
        "# A list of student names and a list of students scores are given as follows:\n",
        "names = ['Alice', 'Bob', 'Clare', 'David', 'Edward', 'Frank', 'Gabriel']\n",
        "scores = [99, 88, 77, 66, 55, 44, 33]"
      ],
      "execution_count": null,
      "outputs": []
    },
    {
      "cell_type": "markdown",
      "metadata": {
        "id": "Vk5_uJlcDYZk"
      },
      "source": [
        "Write a program to find the average score."
      ]
    },
    {
      "cell_type": "code",
      "metadata": {
        "id": "zVTYv48iDfhF"
      },
      "source": [
        "def find_average(scores):\n",
        "    \n",
        "    pass"
      ],
      "execution_count": null,
      "outputs": []
    },
    {
      "cell_type": "code",
      "metadata": {
        "id": "Lb5EJVO4DjL7"
      },
      "source": [
        ""
      ],
      "execution_count": null,
      "outputs": []
    },
    {
      "cell_type": "markdown",
      "metadata": {
        "id": "Y32MeoalDkl-"
      },
      "source": [
        "Write a program that returns a list of student names who failed the course."
      ]
    },
    {
      "cell_type": "code",
      "metadata": {
        "id": "IWhhAZreDrwN"
      },
      "source": [
        "def who_failed(names, scores)\n",
        "\n",
        "    pass"
      ],
      "execution_count": null,
      "outputs": []
    },
    {
      "cell_type": "markdown",
      "metadata": {
        "id": "XqloMDfjEGiC"
      },
      "source": [
        "Write a program that returns a list of letter grades.\n",
        "- A: 90 - 100\n",
        "- B: 80 - 89\n",
        "- C: 70 - 79\n",
        "- D: 60 - 69\n",
        "- F: Below 60"
      ]
    },
    {
      "cell_type": "code",
      "metadata": {
        "id": "9c5DUF2UEUdd"
      },
      "source": [
        "def get_letter_grades(scores):\n",
        "\n",
        "    pass"
      ],
      "execution_count": null,
      "outputs": []
    }
  ]
}